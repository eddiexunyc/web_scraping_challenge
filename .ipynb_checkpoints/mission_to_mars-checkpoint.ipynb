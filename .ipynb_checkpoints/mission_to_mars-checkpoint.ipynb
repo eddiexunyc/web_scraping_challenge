{
 "cells": [
  {
   "cell_type": "code",
   "execution_count": null,
   "metadata": {},
   "outputs": [],
   "source": [
    "import pandas as pd\n",
    "from bs4 import BeautifulSoup\n",
    "from splinter import Browser\n",
    "import time\n",
    "\n",
    "mar_url = \"https://mars.nasa.gov/news/\"\n",
    "mar_pic_url = \"https://www.jpl.nasa.gov/spaceimages/?search=&category=Mars\"\n",
    "mar_fact_url = \"https://space-facts.com/mars/\"\n",
    "mar_hemisphere_url = \"https://astrogeology.usgs.gov/search/results?q=hemisphere+enhanced&k1=target&v1=Mars\"\n",
    "mar = {}"
   ]
  },
  {
   "cell_type": "code",
   "execution_count": null,
   "metadata": {},
   "outputs": [],
   "source": [
    "browser = Browser('chrome')"
   ]
  },
  {
   "cell_type": "code",
   "execution_count": null,
   "metadata": {},
   "outputs": [],
   "source": [
    "browser.visit(mar_url)"
   ]
  },
  {
   "cell_type": "code",
   "execution_count": null,
   "metadata": {},
   "outputs": [],
   "source": [
    "soup = BeautifulSoup(browser.html, 'html.parser')"
   ]
  },
  {
   "cell_type": "code",
   "execution_count": null,
   "metadata": {},
   "outputs": [],
   "source": [
    "print(soup.prettify())"
   ]
  },
  {
   "cell_type": "code",
   "execution_count": null,
   "metadata": {
    "scrolled": true
   },
   "outputs": [],
   "source": [
    "new_article = soup.find_all('div', class_ = \"list_text\")\n",
    "\n",
    "for new in new_article[:1]:\n",
    "    new_title = new.find('div', class_ = 'content_title').text\n",
    "    new_para = new.find('div', class_ = 'article_teaser_body').text\n",
    "    print(new_title)\n",
    "    print(new_para)"
   ]
  },
  {
   "cell_type": "code",
   "execution_count": null,
   "metadata": {},
   "outputs": [],
   "source": [
    "browser.visit(mar_pic_url)\n",
    "browser.find_by_id(\"full_image\").click()\n",
    "time.sleep(.2)\n",
    "browser.find_link_by_partial_text(\"more info\").click()\n",
    "soup = BeautifulSoup(browser.html, 'html.parser')\n",
    "result = soup.find('figure', class_ = 'lede')\n",
    "\n",
    "result"
   ]
  },
  {
   "cell_type": "code",
   "execution_count": null,
   "metadata": {},
   "outputs": [],
   "source": [
    "image_url = 'https://www.jpl.nasa.gov' + result.a.img['src']\n",
    "\n",
    "image_url"
   ]
  },
  {
   "cell_type": "code",
   "execution_count": null,
   "metadata": {},
   "outputs": [],
   "source": [
    "mar_table = pd.read_html(mar_fact_url)\n",
    "mar_table"
   ]
  },
  {
   "cell_type": "code",
   "execution_count": null,
   "metadata": {},
   "outputs": [],
   "source": [
    "mar_df = mar_table[0]\n",
    "mar_df.columns = ['Description', 'Value']\n",
    "mar_df.head(10)"
   ]
  },
  {
   "cell_type": "code",
   "execution_count": null,
   "metadata": {},
   "outputs": [],
   "source": [
    "mar_df_table = mar_df.to_html()\n",
    "mar_df_table"
   ]
  },
  {
   "cell_type": "code",
   "execution_count": null,
   "metadata": {},
   "outputs": [],
   "source": [
    "browser.visit(mar_hemisphere_url)"
   ]
  },
  {
   "cell_type": "code",
   "execution_count": null,
   "metadata": {},
   "outputs": [],
   "source": [
    "soup = BeautifulSoup(browser.html, 'html.parser')"
   ]
  },
  {
   "cell_type": "code",
   "execution_count": null,
   "metadata": {},
   "outputs": [],
   "source": [
    "hemisphere_image_urls = []\n",
    "mar_article = soup.find_all('div', class_ = \"item\")\n",
    "\n",
    "for hemi in mar_article:\n",
    "    mar_content = hemi.find('div', class_ = 'description')\n",
    "    mar_title = mar_content.h3.text\n",
    "    hemi_link = hemi.a['href']\n",
    "    hemi_url = 'https://astrogeology.usgs.gov' + hemi_link\n",
    "    print(mar_title)\n",
    "    print(hemi_url)\n",
    "    "
   ]
  },
  {
   "cell_type": "code",
   "execution_count": null,
   "metadata": {},
   "outputs": [],
   "source": []
  },
  {
   "cell_type": "code",
   "execution_count": null,
   "metadata": {},
   "outputs": [],
   "source": [
    "mar['new_title'] = new_title\n",
    "mar['new_para'] = new_para\n",
    "mar['image'] = image_url\n",
    "mar['table'] = mar_df_table\n",
    "\n",
    "mar"
   ]
  }
 ],
 "metadata": {
  "kernelspec": {
   "display_name": "Python 3",
   "language": "python",
   "name": "python3"
  },
  "language_info": {
   "codemirror_mode": {
    "name": "ipython",
    "version": 3
   },
   "file_extension": ".py",
   "mimetype": "text/x-python",
   "name": "python",
   "nbconvert_exporter": "python",
   "pygments_lexer": "ipython3",
   "version": "3.8.3"
  }
 },
 "nbformat": 4,
 "nbformat_minor": 4
}
